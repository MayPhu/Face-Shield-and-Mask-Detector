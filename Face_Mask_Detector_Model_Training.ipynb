{
 "cells": [
  {
   "cell_type": "code",
   "execution_count": 11,
   "metadata": {},
   "outputs": [],
   "source": [
    "# import the necessary packages\n",
    "from tensorflow.keras.preprocessing.image import ImageDataGenerator\n",
    "from tensorflow.keras.applications import MobileNetV2\n",
    "from tensorflow.keras.layers import AveragePooling2D\n",
    "from tensorflow.keras.layers import Dropout\n",
    "from tensorflow.keras.layers import Flatten\n",
    "from tensorflow.keras.layers import Dense\n",
    "from tensorflow.keras.layers import Input\n",
    "from tensorflow.keras.models import Model\n",
    "from tensorflow.keras.optimizers import Adam\n",
    "from tensorflow.keras.applications.mobilenet_v2 import preprocess_input\n",
    "from tensorflow.keras.preprocessing.image import img_to_array\n",
    "from tensorflow.keras.preprocessing.image import load_img\n",
    "from tensorflow.keras.utils import to_categorical\n",
    "from sklearn.preprocessing import LabelBinarizer\n",
    "from sklearn.model_selection import train_test_split\n",
    "from sklearn.metrics import classification_report\n",
    "from imutils import paths\n",
    "import matplotlib.pyplot as plt\n",
    "import numpy as np\n",
    "import argparse\n",
    "import os"
   ]
  },
  {
   "cell_type": "code",
   "execution_count": 12,
   "metadata": {},
   "outputs": [
    {
     "name": "stdout",
     "output_type": "stream",
     "text": [
      "[INFO] Loading images...\n",
      "[INFO] Images are loaded successfully!...\n"
     ]
    }
   ],
   "source": [
    "# loading the images and preprocessing\n",
    "\n",
    "# initialize empty list for data(images) and labels\n",
    "data = []\n",
    "labels = []\n",
    "\n",
    "\n",
    "print(\"[INFO] loading images...\")\n",
    "imagePaths = list(paths.list_images(\"Mask_Dataset/\"))  # a list of paths of all images in the dataset \n",
    "\n",
    "# loop over the image paths\n",
    "for imagePath in imagePaths:\n",
    "    # extract the class label from the filename\n",
    "    label = imagePath.split(os.path.sep)[-2]  # check wheter the image is inside with_mask or without_mask folder\n",
    "    # load the input image (224x224) and preprocess it\n",
    "    image = load_img(imagePath, target_size=(224, 224))\n",
    "    image = img_to_array(image)\n",
    "    image = preprocess_input(image)\n",
    "    # update the data and labels lists, respectively\n",
    "    data.append(image)\n",
    "    labels.append(label)\n",
    "# convert the data and labels to NumPy arrays\n",
    "data = np.array(data, dtype=\"float32\")\n",
    "labels = np.array(labels)\n",
    "\n",
    "print(\"[INFO] images are loaded successfully!...\")"
   ]
  },
  {
   "cell_type": "code",
   "execution_count": 13,
   "metadata": {},
   "outputs": [],
   "source": [
    "lb = LabelBinarizer() # Binarize labels in a one-vs-all fashion\n",
    "labels = lb.fit_transform(labels) # Fit label binarizer and transform multi-class labels to binary labels.\n",
    "labels = to_categorical(labels) #Converts a class vector (integers) to binary class matrix.\n",
    "\n",
    "# partition the data into training and testing splits \n",
    "# 80% of data for training and the remaining 20% for testing\n",
    "(trainX, testX, trainY, testY) = train_test_split(data, labels,test_size=0.20, stratify=labels, random_state=42)\n",
    "\n",
    "# generate argumented images for training\n",
    "aug = ImageDataGenerator(rotation_range=20,zoom_range=0.15,width_shift_range=0.2,height_shift_range=0.2,shear_range=0.15,horizontal_flip=True,fill_mode=\"nearest\")\n"
   ]
  },
  {
   "cell_type": "code",
   "execution_count": 14,
   "metadata": {},
   "outputs": [
    {
     "name": "stdout",
     "output_type": "stream",
     "text": [
      "WARNING:tensorflow:From C:\\Users\\DELL\\miniconda3\\envs\\tensorflow\\lib\\site-packages\\tensorflow\\python\\ops\\init_ops.py:1251: calling VarianceScaling.__init__ (from tensorflow.python.ops.init_ops) with dtype is deprecated and will be removed in a future version.\n",
      "Instructions for updating:\n",
      "Call initializer instance with the dtype argument instead of passing it to the constructor\n"
     ]
    },
    {
     "name": "stderr",
     "output_type": "stream",
     "text": [
      "C:\\Users\\DELL\\miniconda3\\envs\\tensorflow\\lib\\site-packages\\keras_applications\\mobilenet_v2.py:294: UserWarning: `input_shape` is undefined or non-square, or `rows` is not in [96, 128, 160, 192, 224]. Weights for input shape (224, 224) will be loaded as the default.\n",
      "  warnings.warn('`input_shape` is undefined or non-square, '\n"
     ]
    }
   ],
   "source": [
    "# load the MobileNetV2 network, ensuring the head FC layer sets are left off\n",
    "baseModel = MobileNetV2(weights=\"imagenet\", include_top=False,input_tensor=Input(shape=(224, 224, 3)))\n",
    "\n",
    "# construct the head of the model that will be placed on top of the base model\n",
    "headModel = baseModel.output\n",
    "headModel = AveragePooling2D(pool_size=(7, 7))(headModel)\n",
    "headModel = Flatten(name=\"flatten\")(headModel)\n",
    "headModel = Dense(128, activation=\"relu\")(headModel)\n",
    "headModel = Dropout(0.5)(headModel)\n",
    "headModel = Dense(2, activation=\"softmax\")(headModel)\n",
    "\n",
    "# place the head FC model on top of the base model \n",
    "model = Model(inputs=baseModel.input, outputs=headModel)\n",
    "# loop over all layers in the base model and freeze them so they will\n",
    "# *not* be updated during the first training process\n",
    "for layer in baseModel.layers:\n",
    "    layer.trainable = False"
   ]
  },
  {
   "cell_type": "code",
   "execution_count": 25,
   "metadata": {},
   "outputs": [
    {
     "name": "stdout",
     "output_type": "stream",
     "text": [
      "[INFO] compiling model...\n",
      "[INFO] training head...\n",
      "Epoch 1/20\n",
      "WARNING:tensorflow:From C:\\Users\\DELL\\miniconda3\\envs\\tensorflow\\lib\\site-packages\\tensorflow\\python\\ops\\math_grad.py:1250: add_dispatch_support.<locals>.wrapper (from tensorflow.python.ops.array_ops) is deprecated and will be removed in a future version.\n",
      "Instructions for updating:\n",
      "Use tf.where in 2.0, which has the same broadcast rule as np.where\n",
      "37/37 [==============================] - 1646s 44s/step - loss: 0.5751 - acc: 0.7174 - val_loss: 0.2967 - val_acc: 0.9007\n",
      "Epoch 2/20\n",
      "37/37 [==============================] - 253s 7s/step - loss: 0.3455 - acc: 0.8562 - val_loss: 0.1911 - val_acc: 0.9603\n",
      "Epoch 3/20\n",
      "37/37 [==============================] - 252s 7s/step - loss: 0.2776 - acc: 0.8936 - val_loss: 0.1623 - val_acc: 0.9669\n",
      "Epoch 4/20\n",
      "37/37 [==============================] - 251s 7s/step - loss: 0.2368 - acc: 0.8962 - val_loss: 0.1195 - val_acc: 0.9768\n",
      "Epoch 5/20\n",
      "37/37 [==============================] - 252s 7s/step - loss: 0.1999 - acc: 0.9166 - val_loss: 0.1043 - val_acc: 0.9801\n",
      "Epoch 6/20\n",
      "37/37 [==============================] - 252s 7s/step - loss: 0.1646 - acc: 0.9328 - val_loss: 0.1257 - val_acc: 0.9636\n",
      "Epoch 7/20\n",
      "37/37 [==============================] - 250s 7s/step - loss: 0.1894 - acc: 0.9268 - val_loss: 0.0968 - val_acc: 0.9801\n",
      "Epoch 8/20\n",
      "37/37 [==============================] - 250s 7s/step - loss: 0.1437 - acc: 0.9498 - val_loss: 0.0799 - val_acc: 0.9901\n",
      "Epoch 9/20\n",
      "37/37 [==============================] - 253s 7s/step - loss: 0.1518 - acc: 0.9430 - val_loss: 0.0836 - val_acc: 0.9834\n",
      "Epoch 10/20\n",
      "37/37 [==============================] - 254s 7s/step - loss: 0.1419 - acc: 0.9493 - val_loss: 0.1040 - val_acc: 0.9702\n",
      "Epoch 11/20\n",
      "37/37 [==============================] - 250s 7s/step - loss: 0.1499 - acc: 0.9430 - val_loss: 0.0872 - val_acc: 0.9768\n",
      "Epoch 12/20\n",
      "37/37 [==============================] - 253s 7s/step - loss: 0.1107 - acc: 0.9571 - val_loss: 0.0698 - val_acc: 0.9868\n",
      "Epoch 13/20\n",
      "37/37 [==============================] - 253s 7s/step - loss: 0.1225 - acc: 0.9544 - val_loss: 0.0744 - val_acc: 0.9768\n",
      "Epoch 14/20\n",
      "37/37 [==============================] - 251s 7s/step - loss: 0.1043 - acc: 0.9617 - val_loss: 0.0550 - val_acc: 0.9901\n",
      "Epoch 15/20\n",
      "37/37 [==============================] - 250s 7s/step - loss: 0.0970 - acc: 0.9648 - val_loss: 0.0784 - val_acc: 0.9801\n",
      "Epoch 16/20\n",
      "37/37 [==============================] - 252s 7s/step - loss: 0.1015 - acc: 0.9634 - val_loss: 0.0668 - val_acc: 0.9901\n",
      "Epoch 17/20\n",
      "37/37 [==============================] - 251s 7s/step - loss: 0.0996 - acc: 0.9626 - val_loss: 0.0908 - val_acc: 0.9768\n",
      "Epoch 18/20\n",
      "37/37 [==============================] - 251s 7s/step - loss: 0.0981 - acc: 0.9660 - val_loss: 0.0883 - val_acc: 0.9768\n",
      "Epoch 19/20\n",
      "37/37 [==============================] - 251s 7s/step - loss: 0.0920 - acc: 0.9634 - val_loss: 0.0513 - val_acc: 0.9868\n",
      "Epoch 20/20\n",
      "37/37 [==============================] - 253s 7s/step - loss: 0.0796 - acc: 0.9713 - val_loss: 0.0529 - val_acc: 0.9868\n"
     ]
    }
   ],
   "source": [
    "INIT_LR = 1e-4 # initial learning rate\n",
    "EPOCHS = 20    #number of epochs\n",
    "BS = 32  # batch size\n",
    "\n",
    "# compile the model \n",
    "print(\"[INFO] compiling model...\")\n",
    "opt = Adam(lr=INIT_LR, decay=INIT_LR / EPOCHS)\n",
    "model.compile(loss=\"binary_crossentropy\", optimizer=opt,metrics=[\"accuracy\"])\n",
    "\n",
    "\n",
    "\n",
    "# train the head of the network\n",
    "print(\"[INFO] training head...\")\n",
    "H = model.fit(aug.flow(trainX, trainY, batch_size=BS),\n",
    "    steps_per_epoch=len(trainX) // BS,\n",
    "    validation_data=(testX, testY),\n",
    "    validation_steps=len(testX) // BS,\n",
    "    epochs=EPOCHS)"
   ]
  },
  {
   "cell_type": "code",
   "execution_count": 29,
   "metadata": {},
   "outputs": [
    {
     "name": "stdout",
     "output_type": "stream",
     "text": [
      "[INFO] evaluating network...\n",
      "                      precision    recall  f1-score   support\n",
      "\n",
      "   Dataset/with_mask       0.98      0.99      0.99       151\n",
      "Dataset/without_mask       0.99      0.98      0.99       151\n",
      "\n",
      "            accuracy                           0.99       302\n",
      "           macro avg       0.99      0.99      0.99       302\n",
      "        weighted avg       0.99      0.99      0.99       302\n",
      "\n",
      "[INFO] saving mask detector model...\n"
     ]
    }
   ],
   "source": [
    "# make predictions on the testing set\n",
    "print(\"[INFO] evaluating network...\")\n",
    "predIdxs = model.predict(testX, batch_size=BS)\n",
    "\n",
    "\n",
    "# for each image in the testing set we need to find the index of the\n",
    "# label with corresponding largest predicted probability\n",
    "predIdxs = np.argmax(predIdxs, axis=1)\n",
    "\n",
    "\n",
    "# show a nicely formatted classification report\n",
    "print(classification_report(testY.argmax(axis=1), predIdxs,target_names=lb.classes_))\n",
    "\n",
    "# saving the model into disk\n",
    "print(\"[INFO] saving mask detector model...\")\n",
    "model.save('mask_detector.model', save_format=\"h5\")"
   ]
  }
 ],
 "metadata": {
  "kernelspec": {
   "display_name": "Python 3.7 (tensorflow)",
   "language": "python",
   "name": "tensorflow"
  },
  "language_info": {
   "codemirror_mode": {
    "name": "ipython",
    "version": 3
   },
   "file_extension": ".py",
   "mimetype": "text/x-python",
   "name": "python",
   "nbconvert_exporter": "python",
   "pygments_lexer": "ipython3",
   "version": "3.7.7"
  }
 },
 "nbformat": 4,
 "nbformat_minor": 4
}
